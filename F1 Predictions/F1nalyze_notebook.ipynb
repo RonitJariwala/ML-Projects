{
 "cells": [
  {
   "cell_type": "markdown",
   "metadata": {
    "id": "KM9OnfT6LZQ9"
   },
   "source": [
    "**Loading the Datasets**"
   ]
  },
  {
   "cell_type": "code",
   "execution_count": 2,
   "metadata": {
    "id": "UuHGxd97l8VR"
   },
   "outputs": [],
   "source": [
    "import pandas as pd\n",
    "import numpy as np\n",
    "import seaborn as sns\n",
    "import matplotlib as plt\n",
    "import sklearn as sk"
   ]
  },
  {
   "cell_type": "code",
   "execution_count": 3,
   "metadata": {
    "colab": {
     "base_uri": "https://localhost:8080/",
     "height": 377
    },
    "id": "rJBHdFaampKL",
    "outputId": "af673d61-7f92-468d-daab-e43583f5017c"
   },
   "outputs": [
    {
     "name": "stderr",
     "output_type": "stream",
     "text": [
      "C:\\Users\\Ronit Jariwala\\AppData\\Local\\Temp\\ipykernel_16392\\2887844615.py:1: DtypeWarning: Columns (4,13,14,16,47) have mixed types. Specify dtype option on import or set low_memory=False.\n",
      "  train = pd.read_csv(r'C:\\Users\\Ronit Jariwala\\Documents\\Stuff\\ML Project\\F1 Predictions\\train.csv')\n"
     ]
    },
    {
     "data": {
      "text/html": [
       "<div>\n",
       "<style scoped>\n",
       "    .dataframe tbody tr th:only-of-type {\n",
       "        vertical-align: middle;\n",
       "    }\n",
       "\n",
       "    .dataframe tbody tr th {\n",
       "        vertical-align: top;\n",
       "    }\n",
       "\n",
       "    .dataframe thead th {\n",
       "        text-align: right;\n",
       "    }\n",
       "</style>\n",
       "<table border=\"1\" class=\"dataframe\">\n",
       "  <thead>\n",
       "    <tr style=\"text-align: right;\">\n",
       "      <th></th>\n",
       "      <th>resultId</th>\n",
       "      <th>racerId</th>\n",
       "      <th>driverId</th>\n",
       "      <th>constructorId</th>\n",
       "      <th>number</th>\n",
       "      <th>grid</th>\n",
       "      <th>position_x</th>\n",
       "      <th>positionText_x</th>\n",
       "      <th>positionOrder</th>\n",
       "      <th>points</th>\n",
       "      <th>...</th>\n",
       "      <th>points_y</th>\n",
       "      <th>position</th>\n",
       "      <th>positionText_y</th>\n",
       "      <th>wins</th>\n",
       "      <th>constructorRef</th>\n",
       "      <th>company</th>\n",
       "      <th>nationality_y</th>\n",
       "      <th>url</th>\n",
       "      <th>status</th>\n",
       "      <th>result_driver_standing</th>\n",
       "    </tr>\n",
       "  </thead>\n",
       "  <tbody>\n",
       "    <tr>\n",
       "      <th>0</th>\n",
       "      <td>20025</td>\n",
       "      <td>833</td>\n",
       "      <td>642</td>\n",
       "      <td>51</td>\n",
       "      <td>2</td>\n",
       "      <td>1</td>\n",
       "      <td>1</td>\n",
       "      <td>1</td>\n",
       "      <td>1</td>\n",
       "      <td>9.0</td>\n",
       "      <td>...</td>\n",
       "      <td>3.33</td>\n",
       "      <td>3</td>\n",
       "      <td>3</td>\n",
       "      <td>0</td>\n",
       "      <td>alfa</td>\n",
       "      <td>Alfa Romeo</td>\n",
       "      <td>Swiss</td>\n",
       "      <td>http://en.wikipedia.org/wiki/Alfa_Romeo_in_For...</td>\n",
       "      <td>Finished</td>\n",
       "      <td>922731975</td>\n",
       "    </tr>\n",
       "    <tr>\n",
       "      <th>1</th>\n",
       "      <td>20025</td>\n",
       "      <td>833</td>\n",
       "      <td>642</td>\n",
       "      <td>51</td>\n",
       "      <td>2</td>\n",
       "      <td>1</td>\n",
       "      <td>1</td>\n",
       "      <td>1</td>\n",
       "      <td>1</td>\n",
       "      <td>9.0</td>\n",
       "      <td>...</td>\n",
       "      <td>6.33</td>\n",
       "      <td>3</td>\n",
       "      <td>3</td>\n",
       "      <td>0</td>\n",
       "      <td>alfa</td>\n",
       "      <td>Alfa Romeo</td>\n",
       "      <td>Swiss</td>\n",
       "      <td>http://en.wikipedia.org/wiki/Alfa_Romeo_in_For...</td>\n",
       "      <td>Finished</td>\n",
       "      <td>923172525</td>\n",
       "    </tr>\n",
       "    <tr>\n",
       "      <th>2</th>\n",
       "      <td>20025</td>\n",
       "      <td>833</td>\n",
       "      <td>642</td>\n",
       "      <td>51</td>\n",
       "      <td>2</td>\n",
       "      <td>1</td>\n",
       "      <td>1</td>\n",
       "      <td>1</td>\n",
       "      <td>1</td>\n",
       "      <td>9.0</td>\n",
       "      <td>...</td>\n",
       "      <td>6.33</td>\n",
       "      <td>4</td>\n",
       "      <td>4</td>\n",
       "      <td>0</td>\n",
       "      <td>alfa</td>\n",
       "      <td>Alfa Romeo</td>\n",
       "      <td>Swiss</td>\n",
       "      <td>http://en.wikipedia.org/wiki/Alfa_Romeo_in_For...</td>\n",
       "      <td>Finished</td>\n",
       "      <td>923833350</td>\n",
       "    </tr>\n",
       "    <tr>\n",
       "      <th>3</th>\n",
       "      <td>20025</td>\n",
       "      <td>833</td>\n",
       "      <td>642</td>\n",
       "      <td>51</td>\n",
       "      <td>2</td>\n",
       "      <td>1</td>\n",
       "      <td>1</td>\n",
       "      <td>1</td>\n",
       "      <td>1</td>\n",
       "      <td>9.0</td>\n",
       "      <td>...</td>\n",
       "      <td>10.33</td>\n",
       "      <td>3</td>\n",
       "      <td>3</td>\n",
       "      <td>0</td>\n",
       "      <td>alfa</td>\n",
       "      <td>Alfa Romeo</td>\n",
       "      <td>Swiss</td>\n",
       "      <td>http://en.wikipedia.org/wiki/Alfa_Romeo_in_For...</td>\n",
       "      <td>Finished</td>\n",
       "      <td>925195050</td>\n",
       "    </tr>\n",
       "    <tr>\n",
       "      <th>4</th>\n",
       "      <td>20025</td>\n",
       "      <td>833</td>\n",
       "      <td>642</td>\n",
       "      <td>51</td>\n",
       "      <td>2</td>\n",
       "      <td>1</td>\n",
       "      <td>1</td>\n",
       "      <td>1</td>\n",
       "      <td>1</td>\n",
       "      <td>9.0</td>\n",
       "      <td>...</td>\n",
       "      <td>10.33</td>\n",
       "      <td>4</td>\n",
       "      <td>4</td>\n",
       "      <td>0</td>\n",
       "      <td>alfa</td>\n",
       "      <td>Alfa Romeo</td>\n",
       "      <td>Swiss</td>\n",
       "      <td>http://en.wikipedia.org/wiki/Alfa_Romeo_in_For...</td>\n",
       "      <td>Finished</td>\n",
       "      <td>926576775</td>\n",
       "    </tr>\n",
       "  </tbody>\n",
       "</table>\n",
       "<p>5 rows × 55 columns</p>\n",
       "</div>"
      ],
      "text/plain": [
       "   resultId  racerId  driverId  constructorId number  grid position_x  \\\n",
       "0     20025      833       642             51      2     1          1   \n",
       "1     20025      833       642             51      2     1          1   \n",
       "2     20025      833       642             51      2     1          1   \n",
       "3     20025      833       642             51      2     1          1   \n",
       "4     20025      833       642             51      2     1          1   \n",
       "\n",
       "  positionText_x  positionOrder  points  ...  points_y position  \\\n",
       "0              1              1     9.0  ...      3.33        3   \n",
       "1              1              1     9.0  ...      6.33        3   \n",
       "2              1              1     9.0  ...      6.33        4   \n",
       "3              1              1     9.0  ...     10.33        3   \n",
       "4              1              1     9.0  ...     10.33        4   \n",
       "\n",
       "  positionText_y wins constructorRef     company nationality_y  \\\n",
       "0              3    0           alfa  Alfa Romeo         Swiss   \n",
       "1              3    0           alfa  Alfa Romeo         Swiss   \n",
       "2              4    0           alfa  Alfa Romeo         Swiss   \n",
       "3              3    0           alfa  Alfa Romeo         Swiss   \n",
       "4              4    0           alfa  Alfa Romeo         Swiss   \n",
       "\n",
       "                                                 url    status  \\\n",
       "0  http://en.wikipedia.org/wiki/Alfa_Romeo_in_For...  Finished   \n",
       "1  http://en.wikipedia.org/wiki/Alfa_Romeo_in_For...  Finished   \n",
       "2  http://en.wikipedia.org/wiki/Alfa_Romeo_in_For...  Finished   \n",
       "3  http://en.wikipedia.org/wiki/Alfa_Romeo_in_For...  Finished   \n",
       "4  http://en.wikipedia.org/wiki/Alfa_Romeo_in_For...  Finished   \n",
       "\n",
       "   result_driver_standing  \n",
       "0               922731975  \n",
       "1               923172525  \n",
       "2               923833350  \n",
       "3               925195050  \n",
       "4               926576775  \n",
       "\n",
       "[5 rows x 55 columns]"
      ]
     },
     "execution_count": 3,
     "metadata": {},
     "output_type": "execute_result"
    }
   ],
   "source": [
    "train = pd.read_csv(r'C:\\Users\\Ronit Jariwala\\Documents\\Stuff\\ML Project\\F1 Predictions\\train.csv')\n",
    "train.head()"
   ]
  },
  {
   "cell_type": "code",
   "execution_count": 4,
   "metadata": {
    "colab": {
     "base_uri": "https://localhost:8080/",
     "height": 290
    },
    "id": "keu1XJvWwco5",
    "outputId": "d2600879-2a19-4f3c-fad6-db4d3d666727"
   },
   "outputs": [
    {
     "name": "stderr",
     "output_type": "stream",
     "text": [
      "C:\\Users\\Ronit Jariwala\\AppData\\Local\\Temp\\ipykernel_16392\\2250424345.py:1: DtypeWarning: Columns (13,16) have mixed types. Specify dtype option on import or set low_memory=False.\n",
      "  test = pd.read_csv(r'C:\\Users\\Ronit Jariwala\\Documents\\Stuff\\ML Project\\F1 Predictions\\test.csv')\n"
     ]
    },
    {
     "data": {
      "text/html": [
       "<div>\n",
       "<style scoped>\n",
       "    .dataframe tbody tr th:only-of-type {\n",
       "        vertical-align: middle;\n",
       "    }\n",
       "\n",
       "    .dataframe tbody tr th {\n",
       "        vertical-align: top;\n",
       "    }\n",
       "\n",
       "    .dataframe thead th {\n",
       "        text-align: right;\n",
       "    }\n",
       "</style>\n",
       "<table border=\"1\" class=\"dataframe\">\n",
       "  <thead>\n",
       "    <tr style=\"text-align: right;\">\n",
       "      <th></th>\n",
       "      <th>resultId</th>\n",
       "      <th>racerId</th>\n",
       "      <th>driverId</th>\n",
       "      <th>constructorId</th>\n",
       "      <th>number</th>\n",
       "      <th>grid</th>\n",
       "      <th>position_x</th>\n",
       "      <th>positionText_x</th>\n",
       "      <th>positionOrder</th>\n",
       "      <th>points</th>\n",
       "      <th>...</th>\n",
       "      <th>driverStandingsId</th>\n",
       "      <th>raceId_y</th>\n",
       "      <th>points_y</th>\n",
       "      <th>wins</th>\n",
       "      <th>constructorRef</th>\n",
       "      <th>company</th>\n",
       "      <th>nationality_y</th>\n",
       "      <th>url</th>\n",
       "      <th>status</th>\n",
       "      <th>result_driver_standing</th>\n",
       "    </tr>\n",
       "  </thead>\n",
       "  <tbody>\n",
       "    <tr>\n",
       "      <th>0</th>\n",
       "      <td>23949</td>\n",
       "      <td>997</td>\n",
       "      <td>4</td>\n",
       "      <td>1</td>\n",
       "      <td>14</td>\n",
       "      <td>13</td>\n",
       "      <td>8</td>\n",
       "      <td>8</td>\n",
       "      <td>8</td>\n",
       "      <td>4.0</td>\n",
       "      <td>...</td>\n",
       "      <td>12474</td>\n",
       "      <td>93</td>\n",
       "      <td>16.0</td>\n",
       "      <td>0</td>\n",
       "      <td>mclaren</td>\n",
       "      <td>McLaren</td>\n",
       "      <td>British</td>\n",
       "      <td>http://en.wikipedia.org/wiki/McLaren</td>\n",
       "      <td>+1 Lap</td>\n",
       "      <td>298739826</td>\n",
       "    </tr>\n",
       "    <tr>\n",
       "      <th>1</th>\n",
       "      <td>23949</td>\n",
       "      <td>997</td>\n",
       "      <td>4</td>\n",
       "      <td>1</td>\n",
       "      <td>14</td>\n",
       "      <td>13</td>\n",
       "      <td>8</td>\n",
       "      <td>8</td>\n",
       "      <td>8</td>\n",
       "      <td>4.0</td>\n",
       "      <td>...</td>\n",
       "      <td>12494</td>\n",
       "      <td>94</td>\n",
       "      <td>21.0</td>\n",
       "      <td>0</td>\n",
       "      <td>mclaren</td>\n",
       "      <td>McLaren</td>\n",
       "      <td>British</td>\n",
       "      <td>http://en.wikipedia.org/wiki/McLaren</td>\n",
       "      <td>+1 Lap</td>\n",
       "      <td>299218806</td>\n",
       "    </tr>\n",
       "    <tr>\n",
       "      <th>2</th>\n",
       "      <td>23949</td>\n",
       "      <td>997</td>\n",
       "      <td>4</td>\n",
       "      <td>1</td>\n",
       "      <td>14</td>\n",
       "      <td>13</td>\n",
       "      <td>8</td>\n",
       "      <td>8</td>\n",
       "      <td>8</td>\n",
       "      <td>4.0</td>\n",
       "      <td>...</td>\n",
       "      <td>12514</td>\n",
       "      <td>95</td>\n",
       "      <td>21.0</td>\n",
       "      <td>0</td>\n",
       "      <td>mclaren</td>\n",
       "      <td>McLaren</td>\n",
       "      <td>British</td>\n",
       "      <td>http://en.wikipedia.org/wiki/McLaren</td>\n",
       "      <td>+1 Lap</td>\n",
       "      <td>299697786</td>\n",
       "    </tr>\n",
       "    <tr>\n",
       "      <th>3</th>\n",
       "      <td>23949</td>\n",
       "      <td>997</td>\n",
       "      <td>4</td>\n",
       "      <td>1</td>\n",
       "      <td>14</td>\n",
       "      <td>13</td>\n",
       "      <td>8</td>\n",
       "      <td>8</td>\n",
       "      <td>8</td>\n",
       "      <td>4.0</td>\n",
       "      <td>...</td>\n",
       "      <td>12534</td>\n",
       "      <td>96</td>\n",
       "      <td>25.0</td>\n",
       "      <td>0</td>\n",
       "      <td>mclaren</td>\n",
       "      <td>McLaren</td>\n",
       "      <td>British</td>\n",
       "      <td>http://en.wikipedia.org/wiki/McLaren</td>\n",
       "      <td>+1 Lap</td>\n",
       "      <td>300176766</td>\n",
       "    </tr>\n",
       "    <tr>\n",
       "      <th>4</th>\n",
       "      <td>23949</td>\n",
       "      <td>997</td>\n",
       "      <td>4</td>\n",
       "      <td>1</td>\n",
       "      <td>14</td>\n",
       "      <td>13</td>\n",
       "      <td>8</td>\n",
       "      <td>8</td>\n",
       "      <td>8</td>\n",
       "      <td>4.0</td>\n",
       "      <td>...</td>\n",
       "      <td>12554</td>\n",
       "      <td>97</td>\n",
       "      <td>25.0</td>\n",
       "      <td>0</td>\n",
       "      <td>mclaren</td>\n",
       "      <td>McLaren</td>\n",
       "      <td>British</td>\n",
       "      <td>http://en.wikipedia.org/wiki/McLaren</td>\n",
       "      <td>+1 Lap</td>\n",
       "      <td>300655746</td>\n",
       "    </tr>\n",
       "  </tbody>\n",
       "</table>\n",
       "<p>5 rows × 53 columns</p>\n",
       "</div>"
      ],
      "text/plain": [
       "   resultId  racerId  driverId  constructorId  number  grid position_x  \\\n",
       "0     23949      997         4              1      14    13          8   \n",
       "1     23949      997         4              1      14    13          8   \n",
       "2     23949      997         4              1      14    13          8   \n",
       "3     23949      997         4              1      14    13          8   \n",
       "4     23949      997         4              1      14    13          8   \n",
       "\n",
       "  positionText_x  positionOrder  points  ...  driverStandingsId raceId_y  \\\n",
       "0              8              8     4.0  ...              12474       93   \n",
       "1              8              8     4.0  ...              12494       94   \n",
       "2              8              8     4.0  ...              12514       95   \n",
       "3              8              8     4.0  ...              12534       96   \n",
       "4              8              8     4.0  ...              12554       97   \n",
       "\n",
       "  points_y wins  constructorRef  company nationality_y  \\\n",
       "0     16.0    0         mclaren  McLaren       British   \n",
       "1     21.0    0         mclaren  McLaren       British   \n",
       "2     21.0    0         mclaren  McLaren       British   \n",
       "3     25.0    0         mclaren  McLaren       British   \n",
       "4     25.0    0         mclaren  McLaren       British   \n",
       "\n",
       "                                    url  status  result_driver_standing  \n",
       "0  http://en.wikipedia.org/wiki/McLaren  +1 Lap               298739826  \n",
       "1  http://en.wikipedia.org/wiki/McLaren  +1 Lap               299218806  \n",
       "2  http://en.wikipedia.org/wiki/McLaren  +1 Lap               299697786  \n",
       "3  http://en.wikipedia.org/wiki/McLaren  +1 Lap               300176766  \n",
       "4  http://en.wikipedia.org/wiki/McLaren  +1 Lap               300655746  \n",
       "\n",
       "[5 rows x 53 columns]"
      ]
     },
     "execution_count": 4,
     "metadata": {},
     "output_type": "execute_result"
    }
   ],
   "source": [
    "test = pd.read_csv(r'C:\\Users\\Ronit Jariwala\\Documents\\Stuff\\ML Project\\F1 Predictions\\test.csv')\n",
    "test.head()"
   ]
  },
  {
   "cell_type": "code",
   "execution_count": 5,
   "metadata": {
    "colab": {
     "base_uri": "https://localhost:8080/"
    },
    "id": "wVF6vMUKwj1Q",
    "outputId": "7d912733-13ee-4f96-a243-2097084e0294"
   },
   "outputs": [
    {
     "data": {
      "text/plain": [
       "(2830101, 55)"
      ]
     },
     "execution_count": 5,
     "metadata": {},
     "output_type": "execute_result"
    }
   ],
   "source": [
    "train.shape"
   ]
  },
  {
   "cell_type": "code",
   "execution_count": 6,
   "metadata": {
    "colab": {
     "base_uri": "https://localhost:8080/"
    },
    "id": "PsN6JRdsxjwm",
    "outputId": "f3a12f14-6457-4ed4-d4a9-5067e0d63607"
   },
   "outputs": [
    {
     "data": {
      "text/plain": [
       "(352928, 53)"
      ]
     },
     "execution_count": 6,
     "metadata": {},
     "output_type": "execute_result"
    }
   ],
   "source": [
    "test.shape"
   ]
  },
  {
   "cell_type": "code",
   "execution_count": 7,
   "metadata": {
    "colab": {
     "base_uri": "https://localhost:8080/"
    },
    "id": "rtW3QXZ2xlPh",
    "outputId": "1f283f4f-8054-4773-81d9-d54020e5fbf8"
   },
   "outputs": [
    {
     "name": "stdout",
     "output_type": "stream",
     "text": [
      "Columns present in train but absent in test:\n",
      "{'position', 'positionText_y'}\n"
     ]
    }
   ],
   "source": [
    "# Find columns that are in train but not in test\n",
    "missing_in_test = set(train.columns) - set(test.columns)\n",
    "\n",
    "# Print the missing columns\n",
    "print(\"Columns present in train but absent in test:\")\n",
    "print(missing_in_test)"
   ]
  },
  {
   "cell_type": "code",
   "execution_count": 8,
   "metadata": {
    "colab": {
     "base_uri": "https://localhost:8080/"
    },
    "id": "Aj-U2lmWyevh",
    "outputId": "a1162af7-d525-4864-b6b6-7d5594d95384"
   },
   "outputs": [
    {
     "data": {
      "text/plain": [
       "resultId                  0\n",
       "racerId                   0\n",
       "driverId                  0\n",
       "constructorId             0\n",
       "number                    0\n",
       "grid                      0\n",
       "position_x                0\n",
       "positionText_x            0\n",
       "positionOrder             0\n",
       "points                    0\n",
       "laps                      0\n",
       "time_x                    0\n",
       "timetaken_in_millisec     0\n",
       "fastestLap                0\n",
       "rank                      0\n",
       "fastestLapTime            0\n",
       "max_speed                 0\n",
       "statusId                  0\n",
       "year                      0\n",
       "round                     0\n",
       "circuitId                 0\n",
       "grand_prix                0\n",
       "date                      0\n",
       "time_y                    0\n",
       "url_x                     0\n",
       "fp1_date                  0\n",
       "fp1_time                  0\n",
       "fp2_date                  0\n",
       "fp2_time                  0\n",
       "fp3_date                  0\n",
       "fp3_time                  0\n",
       "quali_date                0\n",
       "quali_time                0\n",
       "sprint_date               0\n",
       "sprint_time               0\n",
       "driverRef                 0\n",
       "driver_num                0\n",
       "driver_code               0\n",
       "forename                  0\n",
       "surname                   0\n",
       "dob                       0\n",
       "nationality               0\n",
       "url_y                     0\n",
       "driverStandingsId         0\n",
       "raceId_y                  0\n",
       "points_y                  0\n",
       "position                  0\n",
       "positionText_y            0\n",
       "wins                      0\n",
       "constructorRef            0\n",
       "company                   0\n",
       "nationality_y             0\n",
       "url                       0\n",
       "status                    0\n",
       "result_driver_standing    0\n",
       "dtype: int64"
      ]
     },
     "execution_count": 8,
     "metadata": {},
     "output_type": "execute_result"
    }
   ],
   "source": [
    "train.isnull().sum()"
   ]
  },
  {
   "cell_type": "code",
   "execution_count": 9,
   "metadata": {
    "id": "B5oGjzyp0eEH"
   },
   "outputs": [
    {
     "name": "stderr",
     "output_type": "stream",
     "text": [
      "C:\\Users\\Ronit Jariwala\\AppData\\Local\\Temp\\ipykernel_16392\\3163480328.py:3: FutureWarning: A value is trying to be set on a copy of a DataFrame or Series through chained assignment using an inplace method.\n",
      "The behavior will change in pandas 3.0. This inplace method will never work because the intermediate object on which we are setting values always behaves as a copy.\n",
      "\n",
      "For example, when doing 'df[col].method(value, inplace=True)', try using 'df.method({col: value}, inplace=True)' or df[col] = df[col].method(value) instead, to perform the operation inplace on the original object.\n",
      "\n",
      "\n",
      "  train[column].fillna(train[column].mode()[0], inplace=True)\n",
      "C:\\Users\\Ronit Jariwala\\AppData\\Local\\Temp\\ipykernel_16392\\3163480328.py:4: FutureWarning: A value is trying to be set on a copy of a DataFrame or Series through chained assignment using an inplace method.\n",
      "The behavior will change in pandas 3.0. This inplace method will never work because the intermediate object on which we are setting values always behaves as a copy.\n",
      "\n",
      "For example, when doing 'df[col].method(value, inplace=True)', try using 'df.method({col: value}, inplace=True)' or df[col] = df[col].method(value) instead, to perform the operation inplace on the original object.\n",
      "\n",
      "\n",
      "  test[column].fillna(test[column].mode()[0], inplace=True)\n",
      "C:\\Users\\Ronit Jariwala\\AppData\\Local\\Temp\\ipykernel_16392\\3163480328.py:3: FutureWarning: A value is trying to be set on a copy of a DataFrame or Series through chained assignment using an inplace method.\n",
      "The behavior will change in pandas 3.0. This inplace method will never work because the intermediate object on which we are setting values always behaves as a copy.\n",
      "\n",
      "For example, when doing 'df[col].method(value, inplace=True)', try using 'df.method({col: value}, inplace=True)' or df[col] = df[col].method(value) instead, to perform the operation inplace on the original object.\n",
      "\n",
      "\n",
      "  train[column].fillna(train[column].mode()[0], inplace=True)\n",
      "C:\\Users\\Ronit Jariwala\\AppData\\Local\\Temp\\ipykernel_16392\\3163480328.py:4: FutureWarning: A value is trying to be set on a copy of a DataFrame or Series through chained assignment using an inplace method.\n",
      "The behavior will change in pandas 3.0. This inplace method will never work because the intermediate object on which we are setting values always behaves as a copy.\n",
      "\n",
      "For example, when doing 'df[col].method(value, inplace=True)', try using 'df.method({col: value}, inplace=True)' or df[col] = df[col].method(value) instead, to perform the operation inplace on the original object.\n",
      "\n",
      "\n",
      "  test[column].fillna(test[column].mode()[0], inplace=True)\n"
     ]
    }
   ],
   "source": [
    "columns_with_nulls = ['status', 'result_driver_standing']\n",
    "for column in columns_with_nulls:\n",
    "    train[column].fillna(train[column].mode()[0], inplace=True)\n",
    "    test[column].fillna(test[column].mode()[0], inplace=True)"
   ]
  },
  {
   "cell_type": "code",
   "execution_count": 10,
   "metadata": {
    "colab": {
     "base_uri": "https://localhost:8080/"
    },
    "id": "CRinCbi-0Xr3",
    "outputId": "372c1713-b911-495d-9053-33a0c017704b"
   },
   "outputs": [
    {
     "data": {
      "text/plain": [
       "resultId                  0\n",
       "racerId                   0\n",
       "driverId                  0\n",
       "constructorId             0\n",
       "number                    0\n",
       "grid                      0\n",
       "position_x                0\n",
       "positionText_x            0\n",
       "positionOrder             0\n",
       "points                    0\n",
       "laps                      0\n",
       "time_x                    0\n",
       "timetaken_in_millisec     0\n",
       "fastestLap                0\n",
       "rank                      0\n",
       "fastestLapTime            0\n",
       "max_speed                 0\n",
       "statusId                  0\n",
       "year                      0\n",
       "round                     0\n",
       "circuitId                 0\n",
       "grand_prix                0\n",
       "date                      0\n",
       "time_y                    0\n",
       "url_x                     0\n",
       "fp1_date                  0\n",
       "fp1_time                  0\n",
       "fp2_date                  0\n",
       "fp2_time                  0\n",
       "fp3_date                  0\n",
       "fp3_time                  0\n",
       "quali_date                0\n",
       "quali_time                0\n",
       "sprint_date               0\n",
       "sprint_time               0\n",
       "driverRef                 0\n",
       "driver_num                0\n",
       "driver_code               0\n",
       "forename                  0\n",
       "surname                   0\n",
       "dob                       0\n",
       "nationality               0\n",
       "url_y                     0\n",
       "driverStandingsId         0\n",
       "raceId_y                  0\n",
       "points_y                  0\n",
       "wins                      0\n",
       "constructorRef            0\n",
       "company                   0\n",
       "nationality_y             0\n",
       "url                       0\n",
       "status                    0\n",
       "result_driver_standing    0\n",
       "dtype: int64"
      ]
     },
     "execution_count": 10,
     "metadata": {},
     "output_type": "execute_result"
    }
   ],
   "source": [
    "test.isnull().sum()"
   ]
  },
  {
   "cell_type": "code",
   "execution_count": 11,
   "metadata": {
    "id": "VURcso6g22JY"
   },
   "outputs": [],
   "source": [
    "def count_backslash_n(df):\n",
    "    return (df == '\\\\N').sum()"
   ]
  },
  {
   "cell_type": "code",
   "execution_count": 12,
   "metadata": {
    "colab": {
     "base_uri": "https://localhost:8080/"
    },
    "id": "MxiZXSAIKZV_",
    "outputId": "0ee63b0c-c6c6-4080-cc53-66a92d233801"
   },
   "outputs": [
    {
     "name": "stdout",
     "output_type": "stream",
     "text": [
      "Occurrences of '\\N' in Train Dataset:\n",
      "resultId                        0\n",
      "racerId                         0\n",
      "driverId                        0\n",
      "constructorId                   0\n",
      "number                        160\n",
      "grid                            0\n",
      "position_x                1125357\n",
      "positionText_x                  0\n",
      "positionOrder                   0\n",
      "points                          0\n",
      "laps                            0\n",
      "time_x                    1871686\n",
      "timetaken_in_millisec     1871741\n",
      "fastestLap                2112010\n",
      "rank                      2105375\n",
      "fastestLapTime            2112010\n",
      "max_speed                 2112010\n",
      "statusId                        0\n",
      "year                            0\n",
      "round                           0\n",
      "circuitId                       0\n",
      "grand_prix                      0\n",
      "date                            0\n",
      "time_y                    2150026\n",
      "url_x                           0\n",
      "fp1_date                  2830101\n",
      "fp1_time                  2830101\n",
      "fp2_date                  2830101\n",
      "fp2_time                  2830101\n",
      "fp3_date                  2830101\n",
      "fp3_time                  2830101\n",
      "quali_date                2830101\n",
      "quali_time                2830101\n",
      "sprint_date               2830101\n",
      "sprint_time               2830101\n",
      "driverRef                       0\n",
      "driver_num                2354922\n",
      "driver_code               1731200\n",
      "forename                        0\n",
      "surname                         0\n",
      "dob                             0\n",
      "nationality                     0\n",
      "url_y                           0\n",
      "driverStandingsId               0\n",
      "raceId_y                        0\n",
      "points_y                        0\n",
      "position                        0\n",
      "positionText_y                  0\n",
      "wins                            0\n",
      "constructorRef                  0\n",
      "company                         0\n",
      "nationality_y                   0\n",
      "url                             0\n",
      "status                          0\n",
      "result_driver_standing          0\n",
      "dtype: int64\n"
     ]
    }
   ],
   "source": [
    "train_backslash_n_counts = count_backslash_n(train)\n",
    "print(\"Occurrences of '\\\\N' in Train Dataset:\")\n",
    "print(train_backslash_n_counts)\n"
   ]
  },
  {
   "cell_type": "code",
   "execution_count": 13,
   "metadata": {
    "colab": {
     "base_uri": "https://localhost:8080/"
    },
    "id": "L_JYDEXBKd5x",
    "outputId": "a9a81363-9a4b-4253-f1f2-bdc12ae1c24d"
   },
   "outputs": [
    {
     "name": "stdout",
     "output_type": "stream",
     "text": [
      "\n",
      "Occurrences of '\\N' in Test Dataset:\n",
      "resultId                       0\n",
      "racerId                        0\n",
      "driverId                       0\n",
      "constructorId                  0\n",
      "number                         0\n",
      "grid                           0\n",
      "position_x                 45237\n",
      "positionText_x                 0\n",
      "positionOrder                  0\n",
      "points                         0\n",
      "laps                           0\n",
      "time_x                    145425\n",
      "timetaken_in_millisec     145425\n",
      "fastestLap                 12225\n",
      "rank                           0\n",
      "fastestLapTime             12225\n",
      "max_speed                  12225\n",
      "statusId                       0\n",
      "year                           0\n",
      "round                          0\n",
      "circuitId                      0\n",
      "grand_prix                     0\n",
      "date                           0\n",
      "time_y                         0\n",
      "url_x                          0\n",
      "fp1_date                  177237\n",
      "fp1_time                  249976\n",
      "fp2_date                  177237\n",
      "fp2_time                  249976\n",
      "fp3_date                  204987\n",
      "fp3_time                  267989\n",
      "quali_date                177237\n",
      "quali_time                249976\n",
      "sprint_date               325178\n",
      "sprint_time               334915\n",
      "driverRef                      0\n",
      "driver_num                     0\n",
      "driver_code                    0\n",
      "forename                       0\n",
      "surname                        0\n",
      "dob                            0\n",
      "nationality                    0\n",
      "url_y                          0\n",
      "driverStandingsId              0\n",
      "raceId_y                       0\n",
      "points_y                       0\n",
      "wins                           0\n",
      "constructorRef                 0\n",
      "company                        0\n",
      "nationality_y                  0\n",
      "url                            0\n",
      "status                         0\n",
      "result_driver_standing         0\n",
      "dtype: int64\n"
     ]
    }
   ],
   "source": [
    "# Count the occurrences of '\\N' in each column of the test dataset\n",
    "test_backslash_n_counts = count_backslash_n(test)\n",
    "print(\"\\nOccurrences of '\\\\N' in Test Dataset:\")\n",
    "print(test_backslash_n_counts)"
   ]
  },
  {
   "cell_type": "code",
   "execution_count": 14,
   "metadata": {
    "colab": {
     "base_uri": "https://localhost:8080/"
    },
    "id": "FnacnvAYKpIS",
    "outputId": "c00a163e-ca00-40cd-f907-e864561ae64d"
   },
   "outputs": [
    {
     "data": {
      "text/plain": [
       "Index(['resultId', 'racerId', 'driverId', 'constructorId', 'grid',\n",
       "       'positionText_x', 'positionOrder', 'points', 'laps', 'statusId', 'year',\n",
       "       'round', 'circuitId', 'grand_prix', 'date', 'url_x', 'driverRef',\n",
       "       'forename', 'surname', 'dob', 'nationality', 'url_y',\n",
       "       'driverStandingsId', 'raceId_y', 'points_y', 'position',\n",
       "       'positionText_y', 'wins', 'constructorRef', 'company', 'nationality_y',\n",
       "       'url', 'status', 'result_driver_standing'],\n",
       "      dtype='object')"
      ]
     },
     "execution_count": 14,
     "metadata": {},
     "output_type": "execute_result"
    }
   ],
   "source": [
    "columns_to_drop_train = train_backslash_n_counts[train_backslash_n_counts > 100].index\n",
    "#dropping the columns having \\N greater than 100\n",
    "train_temp = train.drop(columns=columns_to_drop_train)\n",
    "train_temp.columns"
   ]
  },
  {
   "cell_type": "code",
   "execution_count": 15,
   "metadata": {
    "colab": {
     "base_uri": "https://localhost:8080/",
     "height": 441
    },
    "id": "l4mYYXJ1ZF1x",
    "outputId": "be9b87e8-c4fa-4c18-eb5a-d2098d712446"
   },
   "outputs": [
    {
     "name": "stdout",
     "output_type": "stream",
     "text": [
      "Train Dataset with specified columns:\n"
     ]
    },
    {
     "data": {
      "text/html": [
       "<div>\n",
       "<style scoped>\n",
       "    .dataframe tbody tr th:only-of-type {\n",
       "        vertical-align: middle;\n",
       "    }\n",
       "\n",
       "    .dataframe tbody tr th {\n",
       "        vertical-align: top;\n",
       "    }\n",
       "\n",
       "    .dataframe thead th {\n",
       "        text-align: right;\n",
       "    }\n",
       "</style>\n",
       "<table border=\"1\" class=\"dataframe\">\n",
       "  <thead>\n",
       "    <tr style=\"text-align: right;\">\n",
       "      <th></th>\n",
       "      <th>grid</th>\n",
       "      <th>positionText_x</th>\n",
       "      <th>points</th>\n",
       "      <th>laps</th>\n",
       "      <th>round</th>\n",
       "      <th>nationality</th>\n",
       "      <th>points_y</th>\n",
       "      <th>position</th>\n",
       "      <th>wins</th>\n",
       "      <th>company</th>\n",
       "      <th>status</th>\n",
       "    </tr>\n",
       "  </thead>\n",
       "  <tbody>\n",
       "    <tr>\n",
       "      <th>0</th>\n",
       "      <td>1</td>\n",
       "      <td>1</td>\n",
       "      <td>9.0</td>\n",
       "      <td>70</td>\n",
       "      <td>1</td>\n",
       "      <td>Italian</td>\n",
       "      <td>3.33</td>\n",
       "      <td>3</td>\n",
       "      <td>0</td>\n",
       "      <td>Alfa Romeo</td>\n",
       "      <td>Finished</td>\n",
       "    </tr>\n",
       "    <tr>\n",
       "      <th>1</th>\n",
       "      <td>1</td>\n",
       "      <td>1</td>\n",
       "      <td>9.0</td>\n",
       "      <td>70</td>\n",
       "      <td>1</td>\n",
       "      <td>Italian</td>\n",
       "      <td>6.33</td>\n",
       "      <td>3</td>\n",
       "      <td>0</td>\n",
       "      <td>Alfa Romeo</td>\n",
       "      <td>Finished</td>\n",
       "    </tr>\n",
       "    <tr>\n",
       "      <th>2</th>\n",
       "      <td>1</td>\n",
       "      <td>1</td>\n",
       "      <td>9.0</td>\n",
       "      <td>70</td>\n",
       "      <td>1</td>\n",
       "      <td>Italian</td>\n",
       "      <td>6.33</td>\n",
       "      <td>4</td>\n",
       "      <td>0</td>\n",
       "      <td>Alfa Romeo</td>\n",
       "      <td>Finished</td>\n",
       "    </tr>\n",
       "    <tr>\n",
       "      <th>3</th>\n",
       "      <td>1</td>\n",
       "      <td>1</td>\n",
       "      <td>9.0</td>\n",
       "      <td>70</td>\n",
       "      <td>1</td>\n",
       "      <td>Italian</td>\n",
       "      <td>10.33</td>\n",
       "      <td>3</td>\n",
       "      <td>0</td>\n",
       "      <td>Alfa Romeo</td>\n",
       "      <td>Finished</td>\n",
       "    </tr>\n",
       "    <tr>\n",
       "      <th>4</th>\n",
       "      <td>1</td>\n",
       "      <td>1</td>\n",
       "      <td>9.0</td>\n",
       "      <td>70</td>\n",
       "      <td>1</td>\n",
       "      <td>Italian</td>\n",
       "      <td>10.33</td>\n",
       "      <td>4</td>\n",
       "      <td>0</td>\n",
       "      <td>Alfa Romeo</td>\n",
       "      <td>Finished</td>\n",
       "    </tr>\n",
       "    <tr>\n",
       "      <th>...</th>\n",
       "      <td>...</td>\n",
       "      <td>...</td>\n",
       "      <td>...</td>\n",
       "      <td>...</td>\n",
       "      <td>...</td>\n",
       "      <td>...</td>\n",
       "      <td>...</td>\n",
       "      <td>...</td>\n",
       "      <td>...</td>\n",
       "      <td>...</td>\n",
       "      <td>...</td>\n",
       "    </tr>\n",
       "    <tr>\n",
       "      <th>2830096</th>\n",
       "      <td>4</td>\n",
       "      <td>2</td>\n",
       "      <td>18.0</td>\n",
       "      <td>71</td>\n",
       "      <td>19</td>\n",
       "      <td>Australian</td>\n",
       "      <td>61.50</td>\n",
       "      <td>4</td>\n",
       "      <td>2</td>\n",
       "      <td>Red Bull</td>\n",
       "      <td>Finished</td>\n",
       "    </tr>\n",
       "    <tr>\n",
       "      <th>2830097</th>\n",
       "      <td>4</td>\n",
       "      <td>2</td>\n",
       "      <td>18.0</td>\n",
       "      <td>71</td>\n",
       "      <td>19</td>\n",
       "      <td>Australian</td>\n",
       "      <td>69.50</td>\n",
       "      <td>4</td>\n",
       "      <td>2</td>\n",
       "      <td>Red Bull</td>\n",
       "      <td>Finished</td>\n",
       "    </tr>\n",
       "    <tr>\n",
       "      <th>2830098</th>\n",
       "      <td>4</td>\n",
       "      <td>2</td>\n",
       "      <td>18.0</td>\n",
       "      <td>71</td>\n",
       "      <td>19</td>\n",
       "      <td>Australian</td>\n",
       "      <td>4.00</td>\n",
       "      <td>8</td>\n",
       "      <td>0</td>\n",
       "      <td>Red Bull</td>\n",
       "      <td>Finished</td>\n",
       "    </tr>\n",
       "    <tr>\n",
       "      <th>2830099</th>\n",
       "      <td>4</td>\n",
       "      <td>2</td>\n",
       "      <td>18.0</td>\n",
       "      <td>71</td>\n",
       "      <td>19</td>\n",
       "      <td>Australian</td>\n",
       "      <td>6.00</td>\n",
       "      <td>10</td>\n",
       "      <td>0</td>\n",
       "      <td>Red Bull</td>\n",
       "      <td>Finished</td>\n",
       "    </tr>\n",
       "    <tr>\n",
       "      <th>2830100</th>\n",
       "      <td>4</td>\n",
       "      <td>2</td>\n",
       "      <td>18.0</td>\n",
       "      <td>71</td>\n",
       "      <td>19</td>\n",
       "      <td>Australian</td>\n",
       "      <td>24.00</td>\n",
       "      <td>8</td>\n",
       "      <td>0</td>\n",
       "      <td>Red Bull</td>\n",
       "      <td>Finished</td>\n",
       "    </tr>\n",
       "  </tbody>\n",
       "</table>\n",
       "<p>2830101 rows × 11 columns</p>\n",
       "</div>"
      ],
      "text/plain": [
       "         grid positionText_x  points  laps  round nationality  points_y  \\\n",
       "0           1              1     9.0    70      1     Italian      3.33   \n",
       "1           1              1     9.0    70      1     Italian      6.33   \n",
       "2           1              1     9.0    70      1     Italian      6.33   \n",
       "3           1              1     9.0    70      1     Italian     10.33   \n",
       "4           1              1     9.0    70      1     Italian     10.33   \n",
       "...       ...            ...     ...   ...    ...         ...       ...   \n",
       "2830096     4              2    18.0    71     19  Australian     61.50   \n",
       "2830097     4              2    18.0    71     19  Australian     69.50   \n",
       "2830098     4              2    18.0    71     19  Australian      4.00   \n",
       "2830099     4              2    18.0    71     19  Australian      6.00   \n",
       "2830100     4              2    18.0    71     19  Australian     24.00   \n",
       "\n",
       "         position  wins     company    status  \n",
       "0               3     0  Alfa Romeo  Finished  \n",
       "1               3     0  Alfa Romeo  Finished  \n",
       "2               4     0  Alfa Romeo  Finished  \n",
       "3               3     0  Alfa Romeo  Finished  \n",
       "4               4     0  Alfa Romeo  Finished  \n",
       "...           ...   ...         ...       ...  \n",
       "2830096         4     2    Red Bull  Finished  \n",
       "2830097         4     2    Red Bull  Finished  \n",
       "2830098         8     0    Red Bull  Finished  \n",
       "2830099        10     0    Red Bull  Finished  \n",
       "2830100         8     0    Red Bull  Finished  \n",
       "\n",
       "[2830101 rows x 11 columns]"
      ]
     },
     "execution_count": 15,
     "metadata": {},
     "output_type": "execute_result"
    }
   ],
   "source": [
    "# Specify the columns to include\n",
    "columns_to_include = [\"grid\", \"positionText_x\", \"points\", \"laps\", \"round\", \"nationality\", \"points_y\", \"position\", \"wins\", \"company\", \"status\"]\n",
    "\n",
    "# Select the specified columns from the train dataset\n",
    "train_cleaned = train[columns_to_include]\n",
    "\n",
    "# Display the cleaned train dataset\n",
    "print(\"Train Dataset with specified columns:\")\n",
    "train_cleaned"
   ]
  },
  {
   "cell_type": "code",
   "execution_count": 16,
   "metadata": {
    "colab": {
     "base_uri": "https://localhost:8080/"
    },
    "id": "ChWIqeys12DL",
    "outputId": "4cfe24d4-0f2d-48b0-b2db-1831c510a1ca"
   },
   "outputs": [
    {
     "name": "stdout",
     "output_type": "stream",
     "text": [
      "<class 'pandas.core.frame.DataFrame'>\n",
      "RangeIndex: 2830101 entries, 0 to 2830100\n",
      "Data columns (total 11 columns):\n",
      " #   Column          Dtype  \n",
      "---  ------          -----  \n",
      " 0   grid            int64  \n",
      " 1   positionText_x  object \n",
      " 2   points          float64\n",
      " 3   laps            int64  \n",
      " 4   round           int64  \n",
      " 5   nationality     object \n",
      " 6   points_y        float64\n",
      " 7   position        int64  \n",
      " 8   wins            int64  \n",
      " 9   company         object \n",
      " 10  status          object \n",
      "dtypes: float64(2), int64(5), object(4)\n",
      "memory usage: 237.5+ MB\n"
     ]
    }
   ],
   "source": [
    "train_cleaned.info()"
   ]
  },
  {
   "cell_type": "code",
   "execution_count": 17,
   "metadata": {
    "colab": {
     "base_uri": "https://localhost:8080/"
    },
    "id": "YiwnPuAT6EOa",
    "outputId": "ac7de854-ff46-4910-8c2a-62cd75998ac4"
   },
   "outputs": [
    {
     "name": "stdout",
     "output_type": "stream",
     "text": [
      "Unique values in column 'positionText_x':\n",
      " ['1' '2' '3' '4' '5' '6' '7' '8' '9' '10' '11' 'R' 'N' 'W' '12' '13' '14'\n",
      " '15' '16' '17' '18' '19' '20' '21' '22' '23' '24' 'D' 'F' '25' '26' '27'\n",
      " '28' '29' '30' '31' '32' '33' 'E'] \n",
      "\n",
      "Unique values in column 'nationality':\n",
      " ['Italian' 'British' 'French' 'Belgian' 'Argentine' 'Irish' 'Thai' 'Swiss'\n",
      " 'Monegasque' 'American' 'German' 'Brazilian' 'Spanish' 'Australian'\n",
      " 'Uruguayan' 'East German' 'Dutch' 'Swedish' 'Argentine-Italian'\n",
      " 'New Zealander' 'Portuguese' 'Venezuelan' 'American-Italian'\n",
      " 'South African' 'Mexican' 'Canadian' 'Rhodesian' 'Austrian'\n",
      " 'Liechtensteiner' 'Danish' 'Finnish' 'Japanese' 'Chilean' 'Colombian'\n",
      " 'Czech' 'Malaysian' 'Hungarian' 'Indian' 'Polish' 'Russian'] \n",
      "\n",
      "Unique values in column 'company':\n",
      " ['Alfa Romeo' 'Talbot-Lago' 'ERA' 'Maserati' 'Alta' 'Ferrari' 'Simca'\n",
      " 'Cooper' 'Kurtis Kraft' 'Deidt' 'Moore' 'Lesovsky' 'Nichels' 'Marchese'\n",
      " 'Stevens' 'Langley' 'Ewing' 'Rae' 'Olson' 'Wetteroth' 'Snowberger'\n",
      " 'Adams' 'Watson' 'Milano' 'HWM' 'Veritas' 'Sherman' 'Schroeder' 'Kuzma'\n",
      " 'Pawl' 'Hall' 'Bromme' 'Trevis' 'BRM' 'OSCA' 'Gordini' 'Frazer Nash'\n",
      " 'AFM' 'Aston Butterworth' 'Connaught' 'BMW' 'Cisitalia' 'Turner'\n",
      " 'Del Roy' 'EMW' 'Phillips' 'Pankratz' 'Mercedes' 'Vanwall' 'Klenk'\n",
      " 'Lancia' 'Epperly' 'Arzani-Volpini' 'Bugatti' 'Emeryson' 'Dunn' 'Porsche'\n",
      " 'Team Lotus' 'Cooper-Climax' 'Cooper-Maserati' 'Elder' 'Christensen'\n",
      " 'Sutton' 'Aston Martin' 'Cooper-Borgward' 'JBW' 'Fry' 'Cooper-OSCA'\n",
      " 'Tec-Mec' 'Behra-Porsche' 'Scarab' 'Cooper-Castellotti' 'Meskowski'\n",
      " 'Lotus-Climax' 'De Tomaso-Osca' 'Gilby' 'Ferguson' 'MBM' 'Lotus-Maserati'\n",
      " 'De Tomaso-Alfa Romeo' 'Lola' 'Lotus-BRM' 'ENB' 'Brabham' 'De Tomaso'\n",
      " 'Lotus-Borgward' 'LDS' 'Cooper-Alfa Romeo' 'ATS' 'Scirocco' 'BRP'\n",
      " 'De Tomaso-Ferrari' 'Stebro' 'Lotus-Ford' 'Brabham-Climax' 'Brabham-BRM'\n",
      " 'Brabham-Ford' 'Honda' 'Derrington' 'LDS-Alfa Romeo' 'Cooper-Ford'\n",
      " 'LDS-Climax' 'RE' 'Brabham-Repco' 'McLaren-Ford' 'Eagle-Climax'\n",
      " 'McLaren-Serenissima' 'Cooper-Ferrari' 'Shannon' 'Eagle-Weslake'\n",
      " 'McLaren-BRM' 'Matra' 'Cooper-ATS' 'Protos' 'Matra-Ford' 'Cooper-BRM'\n",
      " 'McLaren' 'BRM-Ford' 'March' 'McLaren-Alfa Romeo' 'Bellasi' 'Surtees'\n",
      " 'Tyrrell' 'March-Ford' 'March-Alfa Romeo' 'Lotus-Pratt &amp; Whitney'\n",
      " 'Tecno' 'Politoys' 'Connew' 'Iso Marlboro' 'Shadow' 'Ensign' 'Hesketh'\n",
      " 'Trojan' 'Amon' 'Token' 'Lyncar' 'Maki' 'Parnelli' 'Penske' 'Shadow-Ford'\n",
      " 'Williams' 'Fittipaldi' 'Embassy Hill' 'Shadow-Matra' 'Wolf'\n",
      " 'Brabham-Alfa Romeo' 'Ligier' 'Boro' 'Kojima' 'LEC' 'Renault' 'McGuire'\n",
      " 'Apollon' 'Merzario' 'Theodore' 'Arrows' 'Martini' 'Kauhsen' 'Rebaque'\n",
      " 'Osella' 'Toleman' 'RAM' 'Spirit' 'Minardi' 'Zakspeed' 'Benetton' 'AGS'\n",
      " 'Larrousse' 'Coloni' 'Rial' 'Euro Brun' 'Dallara' 'Onyx' 'Leyton House'\n",
      " 'Life' 'Lambo' 'Jordan' 'Footwork' 'Fondmetal' 'Andrea Moda' 'Sauber'\n",
      " 'Simtek' 'Pacific' 'Forti' 'Prost' 'Stewart' 'BAR' 'Jaguar' 'Toyota'\n",
      " 'Red Bull' 'Toro Rosso' 'BMW Sauber' 'MF1' 'Super Aguri' 'Spyker MF1'\n",
      " 'Spyker' 'Force India' 'Brawn' 'Lotus' 'HRT' 'Virgin' 'Lotus F1'\n",
      " 'Marussia' 'Caterham'] \n",
      "\n",
      "Unique values in column 'status':\n",
      " ['Finished' '+2 Laps' '+3 Laps' '+5 Laps' '+6 Laps' 'Oil leak'\n",
      " 'Not classified' 'Out of fuel' 'Engine' 'Transmission' 'Clutch'\n",
      " 'Oil pressure' 'Gearbox' 'Supercharger' '+1 Lap' 'Axle' 'Accident'\n",
      " 'Collision' 'Spun off' '+8 Laps' '+10 Laps' '+11 Laps' '+12 Laps'\n",
      " '+13 Laps' '+15 Laps' '+16 Laps' 'Oil line' 'Wheel bearing' 'Stalled'\n",
      " '+4 Laps' '+7 Laps' 'Suspension' 'Oil pump' 'Oil pipe' 'Overheating'\n",
      " 'Fuel pump' 'Radiator' 'Retired' 'Brakes' 'Water pipe' 'Withdrew'\n",
      " 'Magneto' 'Ignition' 'Fuel system' '+20 Laps' 'Heat shield fire'\n",
      " 'Fuel leak' '+19 Laps' '+22 Laps' '+9 Laps' 'Wheel' 'Halfshaft'\n",
      " 'Steering' '+18 Laps' 'Differential' 'Turbo' 'Exhaust' '+14 Laps'\n",
      " 'Disqualified' 'Electrical' 'Did not qualify' '+17 Laps' '+24 Laps'\n",
      " 'Throttle' 'Physical' '+46 Laps' 'Injection' 'Fuel pressure' 'Tyre'\n",
      " 'Chassis' 'Water leak' 'Water pump' 'Distributor' 'Handling' '+30 Laps'\n",
      " '+44 Laps' 'Vibrations' 'Puncture' 'Battery' '+21 Laps' '+23 Laps'\n",
      " '+25 Laps' 'Driver unwell' '+29 Laps' 'Did not prequalify' 'Alternator'\n",
      " 'Injury' 'Broken wing' 'Fuel pipe' 'Fatal accident' 'Eye injury'\n",
      " 'Injured' 'Mechanical' 'Spark plugs' 'CV joint' 'Excluded' 'Driveshaft'\n",
      " 'Hydraulics' 'Fire' 'Safety belt' '107% Rule' 'Fuel' 'Underweight'\n",
      " 'Rear wing' 'Safety concerns' 'Not restarted' 'Crankshaft' 'Fuel rig'\n",
      " 'Wheel rim' 'Power loss' 'Safety' 'Electronics' 'Drivetrain'\n",
      " 'Launch control' 'Pneumatics' 'Engine fire' '+26 Laps' 'Tyre puncture'\n",
      " 'Wheel nut' 'Technical' 'Track rod' 'Front wing' 'Water pressure'\n",
      " 'Refuelling' 'Driver Seat' '+42 Laps' 'Engine misfire' 'Collision damage'] \n",
      "\n"
     ]
    }
   ],
   "source": [
    "# List of columns you are interested in\n",
    "columns_of_interest = ['positionText_x', 'nationality', 'company','status']\n",
    "\n",
    "# Find and print unique values for each specified column\n",
    "for column in columns_of_interest:\n",
    "    unique_values = train_cleaned[column].unique()\n",
    "    print(f\"Unique values in column '{column}':\\n\", unique_values, \"\\n\")\n"
   ]
  },
  {
   "cell_type": "code",
   "execution_count": 18,
   "metadata": {
    "colab": {
     "base_uri": "https://localhost:8080/"
    },
    "id": "ZH7CKL2u68rs",
    "outputId": "ff850dfc-90bc-4a2d-b5fe-07e3d1429bd6"
   },
   "outputs": [
    {
     "name": "stderr",
     "output_type": "stream",
     "text": [
      "C:\\Users\\Ronit Jariwala\\AppData\\Local\\Temp\\ipykernel_16392\\3194724652.py:5: SettingWithCopyWarning: \n",
      "A value is trying to be set on a copy of a slice from a DataFrame.\n",
      "Try using .loc[row_indexer,col_indexer] = value instead\n",
      "\n",
      "See the caveats in the documentation: https://pandas.pydata.org/pandas-docs/stable/user_guide/indexing.html#returning-a-view-versus-a-copy\n",
      "  train_cleaned[column] = label_encoder.fit_transform(train_cleaned[column])\n",
      "C:\\Users\\Ronit Jariwala\\AppData\\Local\\Temp\\ipykernel_16392\\3194724652.py:5: SettingWithCopyWarning: \n",
      "A value is trying to be set on a copy of a slice from a DataFrame.\n",
      "Try using .loc[row_indexer,col_indexer] = value instead\n",
      "\n",
      "See the caveats in the documentation: https://pandas.pydata.org/pandas-docs/stable/user_guide/indexing.html#returning-a-view-versus-a-copy\n",
      "  train_cleaned[column] = label_encoder.fit_transform(train_cleaned[column])\n",
      "C:\\Users\\Ronit Jariwala\\AppData\\Local\\Temp\\ipykernel_16392\\3194724652.py:5: SettingWithCopyWarning: \n",
      "A value is trying to be set on a copy of a slice from a DataFrame.\n",
      "Try using .loc[row_indexer,col_indexer] = value instead\n",
      "\n",
      "See the caveats in the documentation: https://pandas.pydata.org/pandas-docs/stable/user_guide/indexing.html#returning-a-view-versus-a-copy\n",
      "  train_cleaned[column] = label_encoder.fit_transform(train_cleaned[column])\n"
     ]
    },
    {
     "name": "stdout",
     "output_type": "stream",
     "text": [
      "   grid  positionText_x  points  laps  round  nationality  points_y  position  \\\n",
      "0     1               0     9.0    70      1           22      3.33         3   \n",
      "1     1               0     9.0    70      1           22      6.33         3   \n",
      "2     1               0     9.0    70      1           22      6.33         4   \n",
      "3     1               0     9.0    70      1           22     10.33         3   \n",
      "4     1               0     9.0    70      1           22     10.33         4   \n",
      "\n",
      "   wins  company  status  \n",
      "0     0        4      62  \n",
      "1     0        4      62  \n",
      "2     0        4      62  \n",
      "3     0        4      62  \n",
      "4     0        4      62  \n"
     ]
    },
    {
     "name": "stderr",
     "output_type": "stream",
     "text": [
      "C:\\Users\\Ronit Jariwala\\AppData\\Local\\Temp\\ipykernel_16392\\3194724652.py:5: SettingWithCopyWarning: \n",
      "A value is trying to be set on a copy of a slice from a DataFrame.\n",
      "Try using .loc[row_indexer,col_indexer] = value instead\n",
      "\n",
      "See the caveats in the documentation: https://pandas.pydata.org/pandas-docs/stable/user_guide/indexing.html#returning-a-view-versus-a-copy\n",
      "  train_cleaned[column] = label_encoder.fit_transform(train_cleaned[column])\n"
     ]
    }
   ],
   "source": [
    "from sklearn.preprocessing import LabelEncoder\n",
    "label_encoder = LabelEncoder()\n",
    "columns_to_encode = ['positionText_x', 'nationality', 'company', 'status']\n",
    "for column in columns_to_encode:\n",
    "    train_cleaned[column] = label_encoder.fit_transform(train_cleaned[column])\n",
    "\n",
    "print(train_cleaned.head())"
   ]
  },
  {
   "cell_type": "markdown",
   "metadata": {
    "id": "bmUTEpRfCaDk"
   },
   "source": [
    "**Testing Data**"
   ]
  },
  {
   "cell_type": "code",
   "execution_count": 19,
   "metadata": {
    "colab": {
     "base_uri": "https://localhost:8080/",
     "height": 423
    },
    "id": "G4TXsnST9oml",
    "outputId": "bd53134a-d49b-4765-82b6-34e29e410fa6"
   },
   "outputs": [
    {
     "data": {
      "text/html": [
       "<div>\n",
       "<style scoped>\n",
       "    .dataframe tbody tr th:only-of-type {\n",
       "        vertical-align: middle;\n",
       "    }\n",
       "\n",
       "    .dataframe tbody tr th {\n",
       "        vertical-align: top;\n",
       "    }\n",
       "\n",
       "    .dataframe thead th {\n",
       "        text-align: right;\n",
       "    }\n",
       "</style>\n",
       "<table border=\"1\" class=\"dataframe\">\n",
       "  <thead>\n",
       "    <tr style=\"text-align: right;\">\n",
       "      <th></th>\n",
       "      <th>grid</th>\n",
       "      <th>positionText_x</th>\n",
       "      <th>points</th>\n",
       "      <th>laps</th>\n",
       "      <th>round</th>\n",
       "      <th>nationality</th>\n",
       "      <th>points_y</th>\n",
       "      <th>wins</th>\n",
       "      <th>company</th>\n",
       "      <th>status</th>\n",
       "    </tr>\n",
       "  </thead>\n",
       "  <tbody>\n",
       "    <tr>\n",
       "      <th>0</th>\n",
       "      <td>13</td>\n",
       "      <td>8</td>\n",
       "      <td>4.0</td>\n",
       "      <td>70</td>\n",
       "      <td>9</td>\n",
       "      <td>Spanish</td>\n",
       "      <td>16.0</td>\n",
       "      <td>0</td>\n",
       "      <td>McLaren</td>\n",
       "      <td>+1 Lap</td>\n",
       "    </tr>\n",
       "    <tr>\n",
       "      <th>1</th>\n",
       "      <td>13</td>\n",
       "      <td>8</td>\n",
       "      <td>4.0</td>\n",
       "      <td>70</td>\n",
       "      <td>9</td>\n",
       "      <td>Spanish</td>\n",
       "      <td>21.0</td>\n",
       "      <td>0</td>\n",
       "      <td>McLaren</td>\n",
       "      <td>+1 Lap</td>\n",
       "    </tr>\n",
       "    <tr>\n",
       "      <th>2</th>\n",
       "      <td>13</td>\n",
       "      <td>8</td>\n",
       "      <td>4.0</td>\n",
       "      <td>70</td>\n",
       "      <td>9</td>\n",
       "      <td>Spanish</td>\n",
       "      <td>21.0</td>\n",
       "      <td>0</td>\n",
       "      <td>McLaren</td>\n",
       "      <td>+1 Lap</td>\n",
       "    </tr>\n",
       "    <tr>\n",
       "      <th>3</th>\n",
       "      <td>13</td>\n",
       "      <td>8</td>\n",
       "      <td>4.0</td>\n",
       "      <td>70</td>\n",
       "      <td>9</td>\n",
       "      <td>Spanish</td>\n",
       "      <td>25.0</td>\n",
       "      <td>0</td>\n",
       "      <td>McLaren</td>\n",
       "      <td>+1 Lap</td>\n",
       "    </tr>\n",
       "    <tr>\n",
       "      <th>4</th>\n",
       "      <td>13</td>\n",
       "      <td>8</td>\n",
       "      <td>4.0</td>\n",
       "      <td>70</td>\n",
       "      <td>9</td>\n",
       "      <td>Spanish</td>\n",
       "      <td>25.0</td>\n",
       "      <td>0</td>\n",
       "      <td>McLaren</td>\n",
       "      <td>+1 Lap</td>\n",
       "    </tr>\n",
       "    <tr>\n",
       "      <th>...</th>\n",
       "      <td>...</td>\n",
       "      <td>...</td>\n",
       "      <td>...</td>\n",
       "      <td>...</td>\n",
       "      <td>...</td>\n",
       "      <td>...</td>\n",
       "      <td>...</td>\n",
       "      <td>...</td>\n",
       "      <td>...</td>\n",
       "      <td>...</td>\n",
       "    </tr>\n",
       "    <tr>\n",
       "      <th>352923</th>\n",
       "      <td>5</td>\n",
       "      <td>R</td>\n",
       "      <td>0.0</td>\n",
       "      <td>0</td>\n",
       "      <td>12</td>\n",
       "      <td>Australian</td>\n",
       "      <td>5.0</td>\n",
       "      <td>0</td>\n",
       "      <td>McLaren</td>\n",
       "      <td>Collision damage</td>\n",
       "    </tr>\n",
       "    <tr>\n",
       "      <th>352924</th>\n",
       "      <td>5</td>\n",
       "      <td>R</td>\n",
       "      <td>0.0</td>\n",
       "      <td>0</td>\n",
       "      <td>12</td>\n",
       "      <td>Australian</td>\n",
       "      <td>5.0</td>\n",
       "      <td>0</td>\n",
       "      <td>McLaren</td>\n",
       "      <td>Collision damage</td>\n",
       "    </tr>\n",
       "    <tr>\n",
       "      <th>352925</th>\n",
       "      <td>5</td>\n",
       "      <td>R</td>\n",
       "      <td>0.0</td>\n",
       "      <td>0</td>\n",
       "      <td>12</td>\n",
       "      <td>Australian</td>\n",
       "      <td>17.0</td>\n",
       "      <td>0</td>\n",
       "      <td>McLaren</td>\n",
       "      <td>Collision damage</td>\n",
       "    </tr>\n",
       "    <tr>\n",
       "      <th>352926</th>\n",
       "      <td>5</td>\n",
       "      <td>R</td>\n",
       "      <td>0.0</td>\n",
       "      <td>0</td>\n",
       "      <td>12</td>\n",
       "      <td>Australian</td>\n",
       "      <td>27.0</td>\n",
       "      <td>0</td>\n",
       "      <td>McLaren</td>\n",
       "      <td>Collision damage</td>\n",
       "    </tr>\n",
       "    <tr>\n",
       "      <th>352927</th>\n",
       "      <td>5</td>\n",
       "      <td>R</td>\n",
       "      <td>0.0</td>\n",
       "      <td>0</td>\n",
       "      <td>12</td>\n",
       "      <td>Australian</td>\n",
       "      <td>34.0</td>\n",
       "      <td>0</td>\n",
       "      <td>McLaren</td>\n",
       "      <td>Collision damage</td>\n",
       "    </tr>\n",
       "  </tbody>\n",
       "</table>\n",
       "<p>352928 rows × 10 columns</p>\n",
       "</div>"
      ],
      "text/plain": [
       "        grid positionText_x  points  laps  round nationality  points_y  wins  \\\n",
       "0         13              8     4.0    70      9     Spanish      16.0     0   \n",
       "1         13              8     4.0    70      9     Spanish      21.0     0   \n",
       "2         13              8     4.0    70      9     Spanish      21.0     0   \n",
       "3         13              8     4.0    70      9     Spanish      25.0     0   \n",
       "4         13              8     4.0    70      9     Spanish      25.0     0   \n",
       "...      ...            ...     ...   ...    ...         ...       ...   ...   \n",
       "352923     5              R     0.0     0     12  Australian       5.0     0   \n",
       "352924     5              R     0.0     0     12  Australian       5.0     0   \n",
       "352925     5              R     0.0     0     12  Australian      17.0     0   \n",
       "352926     5              R     0.0     0     12  Australian      27.0     0   \n",
       "352927     5              R     0.0     0     12  Australian      34.0     0   \n",
       "\n",
       "        company            status  \n",
       "0       McLaren            +1 Lap  \n",
       "1       McLaren            +1 Lap  \n",
       "2       McLaren            +1 Lap  \n",
       "3       McLaren            +1 Lap  \n",
       "4       McLaren            +1 Lap  \n",
       "...         ...               ...  \n",
       "352923  McLaren  Collision damage  \n",
       "352924  McLaren  Collision damage  \n",
       "352925  McLaren  Collision damage  \n",
       "352926  McLaren  Collision damage  \n",
       "352927  McLaren  Collision damage  \n",
       "\n",
       "[352928 rows x 10 columns]"
      ]
     },
     "execution_count": 19,
     "metadata": {},
     "output_type": "execute_result"
    }
   ],
   "source": [
    "columns_to_include = [\"grid\", \"positionText_x\", \"points\", \"laps\", \"round\", \"nationality\", \"points_y\", \"wins\", \"company\", \"status\"]\n",
    "test_cleaned = test[columns_to_include]\n",
    "test_cleaned"
   ]
  },
  {
   "cell_type": "code",
   "execution_count": 20,
   "metadata": {
    "colab": {
     "base_uri": "https://localhost:8080/"
    },
    "id": "1uSC0BoIAtwN",
    "outputId": "e8c126fd-1533-436c-fab5-2948d59d8bf8"
   },
   "outputs": [
    {
     "name": "stdout",
     "output_type": "stream",
     "text": [
      "Occurrences of '\\N' in Train Dataset:\n",
      "grid              0\n",
      "positionText_x    0\n",
      "points            0\n",
      "laps              0\n",
      "round             0\n",
      "nationality       0\n",
      "points_y          0\n",
      "wins              0\n",
      "company           0\n",
      "status            0\n",
      "dtype: int64\n"
     ]
    }
   ],
   "source": [
    "test_backslash_n_counts = count_backslash_n(test_cleaned)\n",
    "print(\"Occurrences of '\\\\N' in Train Dataset:\")\n",
    "print(test_backslash_n_counts)"
   ]
  },
  {
   "cell_type": "code",
   "execution_count": 21,
   "metadata": {
    "colab": {
     "base_uri": "https://localhost:8080/"
    },
    "id": "nJSv2J-6-5G7",
    "outputId": "7e558703-b392-4e2c-a97a-bb6f3a869971"
   },
   "outputs": [
    {
     "name": "stderr",
     "output_type": "stream",
     "text": [
      "C:\\Users\\Ronit Jariwala\\AppData\\Local\\Temp\\ipykernel_16392\\2003949884.py:2: SettingWithCopyWarning: \n",
      "A value is trying to be set on a copy of a slice from a DataFrame.\n",
      "Try using .loc[row_indexer,col_indexer] = value instead\n",
      "\n",
      "See the caveats in the documentation: https://pandas.pydata.org/pandas-docs/stable/user_guide/indexing.html#returning-a-view-versus-a-copy\n",
      "  test_cleaned[column] = label_encoder.fit_transform(test_cleaned[column])\n",
      "C:\\Users\\Ronit Jariwala\\AppData\\Local\\Temp\\ipykernel_16392\\2003949884.py:2: SettingWithCopyWarning: \n",
      "A value is trying to be set on a copy of a slice from a DataFrame.\n",
      "Try using .loc[row_indexer,col_indexer] = value instead\n",
      "\n",
      "See the caveats in the documentation: https://pandas.pydata.org/pandas-docs/stable/user_guide/indexing.html#returning-a-view-versus-a-copy\n",
      "  test_cleaned[column] = label_encoder.fit_transform(test_cleaned[column])\n"
     ]
    },
    {
     "name": "stdout",
     "output_type": "stream",
     "text": [
      "   grid  positionText_x  points  laps  round  nationality  points_y  wins  \\\n",
      "0    13              18     4.0    70      9           19      16.0     0   \n",
      "1    13              18     4.0    70      9           19      21.0     0   \n",
      "2    13              18     4.0    70      9           19      21.0     0   \n",
      "3    13              18     4.0    70      9           19      25.0     0   \n",
      "4    13              18     4.0    70      9           19      25.0     0   \n",
      "\n",
      "   company  status  \n",
      "0        7       0  \n",
      "1        7       0  \n",
      "2        7       0  \n",
      "3        7       0  \n",
      "4        7       0  \n"
     ]
    },
    {
     "name": "stderr",
     "output_type": "stream",
     "text": [
      "C:\\Users\\Ronit Jariwala\\AppData\\Local\\Temp\\ipykernel_16392\\2003949884.py:2: SettingWithCopyWarning: \n",
      "A value is trying to be set on a copy of a slice from a DataFrame.\n",
      "Try using .loc[row_indexer,col_indexer] = value instead\n",
      "\n",
      "See the caveats in the documentation: https://pandas.pydata.org/pandas-docs/stable/user_guide/indexing.html#returning-a-view-versus-a-copy\n",
      "  test_cleaned[column] = label_encoder.fit_transform(test_cleaned[column])\n",
      "C:\\Users\\Ronit Jariwala\\AppData\\Local\\Temp\\ipykernel_16392\\2003949884.py:2: SettingWithCopyWarning: \n",
      "A value is trying to be set on a copy of a slice from a DataFrame.\n",
      "Try using .loc[row_indexer,col_indexer] = value instead\n",
      "\n",
      "See the caveats in the documentation: https://pandas.pydata.org/pandas-docs/stable/user_guide/indexing.html#returning-a-view-versus-a-copy\n",
      "  test_cleaned[column] = label_encoder.fit_transform(test_cleaned[column])\n"
     ]
    }
   ],
   "source": [
    "for column in columns_to_encode:\n",
    "    test_cleaned[column] = label_encoder.fit_transform(test_cleaned[column])\n",
    "\n",
    "print(test_cleaned.head())"
   ]
  },
  {
   "cell_type": "markdown",
   "metadata": {
    "id": "MuJS6GYHMtMY"
   },
   "source": [
    "**Working with validation dataset to check rmse**\n"
   ]
  },
  {
   "cell_type": "code",
   "execution_count": 22,
   "metadata": {
    "colab": {
     "base_uri": "https://localhost:8080/"
    },
    "id": "d_-4nmNcJJnp",
    "outputId": "4ac667db-06ff-494a-af72-089acc1a1229"
   },
   "outputs": [
    {
     "name": "stderr",
     "output_type": "stream",
     "text": [
      "C:\\Users\\Ronit Jariwala\\AppData\\Local\\Temp\\ipykernel_16392\\2041131606.py:1: DtypeWarning: Columns (13,16,36) have mixed types. Specify dtype option on import or set low_memory=False.\n",
      "  validation = pd.read_csv(r'C:\\Users\\Ronit Jariwala\\Documents\\Stuff\\ML Project\\F1 Predictions\\validation.csv')\n"
     ]
    },
    {
     "name": "stdout",
     "output_type": "stream",
     "text": [
      "   grid  positionText_x  points  laps  round  nationality  points_y  position  \\\n",
      "0     4              11    18.0    71     19            1      28.0         8   \n",
      "1     4              11    18.0    71     19            1      53.0         4   \n",
      "2     4              11    18.0    71     19            1      78.0         1   \n",
      "3     4              11    18.0    71     19            1      93.0         1   \n",
      "4     4              11    18.0    71     19            1     103.0         3   \n",
      "\n",
      "   wins  company  status  \n",
      "0     0        9      22  \n",
      "1     1        9      22  \n",
      "2     2        9      22  \n",
      "3     2        9      22  \n",
      "4     2        9      22  \n"
     ]
    },
    {
     "name": "stderr",
     "output_type": "stream",
     "text": [
      "C:\\Users\\Ronit Jariwala\\AppData\\Local\\Temp\\ipykernel_16392\\2041131606.py:7: SettingWithCopyWarning: \n",
      "A value is trying to be set on a copy of a slice from a DataFrame.\n",
      "Try using .loc[row_indexer,col_indexer] = value instead\n",
      "\n",
      "See the caveats in the documentation: https://pandas.pydata.org/pandas-docs/stable/user_guide/indexing.html#returning-a-view-versus-a-copy\n",
      "  validation_cleaned[column] = label_encoder.fit_transform(validation_cleaned[column])\n",
      "C:\\Users\\Ronit Jariwala\\AppData\\Local\\Temp\\ipykernel_16392\\2041131606.py:7: SettingWithCopyWarning: \n",
      "A value is trying to be set on a copy of a slice from a DataFrame.\n",
      "Try using .loc[row_indexer,col_indexer] = value instead\n",
      "\n",
      "See the caveats in the documentation: https://pandas.pydata.org/pandas-docs/stable/user_guide/indexing.html#returning-a-view-versus-a-copy\n",
      "  validation_cleaned[column] = label_encoder.fit_transform(validation_cleaned[column])\n",
      "C:\\Users\\Ronit Jariwala\\AppData\\Local\\Temp\\ipykernel_16392\\2041131606.py:7: SettingWithCopyWarning: \n",
      "A value is trying to be set on a copy of a slice from a DataFrame.\n",
      "Try using .loc[row_indexer,col_indexer] = value instead\n",
      "\n",
      "See the caveats in the documentation: https://pandas.pydata.org/pandas-docs/stable/user_guide/indexing.html#returning-a-view-versus-a-copy\n",
      "  validation_cleaned[column] = label_encoder.fit_transform(validation_cleaned[column])\n",
      "C:\\Users\\Ronit Jariwala\\AppData\\Local\\Temp\\ipykernel_16392\\2041131606.py:7: SettingWithCopyWarning: \n",
      "A value is trying to be set on a copy of a slice from a DataFrame.\n",
      "Try using .loc[row_indexer,col_indexer] = value instead\n",
      "\n",
      "See the caveats in the documentation: https://pandas.pydata.org/pandas-docs/stable/user_guide/indexing.html#returning-a-view-versus-a-copy\n",
      "  validation_cleaned[column] = label_encoder.fit_transform(validation_cleaned[column])\n"
     ]
    }
   ],
   "source": [
    "validation = pd.read_csv(r'C:\\Users\\Ronit Jariwala\\Documents\\Stuff\\ML Project\\F1 Predictions\\validation.csv')\n",
    "columns_to_include = [\"grid\", \"positionText_x\", \"points\", \"laps\", \"round\", \"nationality\", \"points_y\", \"position\", \"wins\", \"company\", \"status\"]\n",
    "validation_cleaned = validation[columns_to_include]\n",
    "validation_cleaned\n",
    "\n",
    "for column in columns_to_encode:\n",
    "    validation_cleaned[column] = label_encoder.fit_transform(validation_cleaned[column])\n",
    "\n",
    "print(validation_cleaned.head())\n",
    "\n",
    "X_val = validation_cleaned.drop('position', axis=1)\n",
    "y_val = validation_cleaned['position']\n"
   ]
  },
  {
   "cell_type": "code",
   "execution_count": 23,
   "metadata": {
    "id": "DX9P7-r7BbGA"
   },
   "outputs": [],
   "source": [
    "from sklearn.model_selection import train_test_split\n",
    "from sklearn.tree import DecisionTreeClassifier\n",
    "from sklearn.ensemble import RandomForestClassifier\n",
    "from sklearn.linear_model import LogisticRegression\n",
    "from sklearn.metrics import accuracy_score, classification_report\n",
    "from sklearn.preprocessing import LabelEncoder, StandardScaler"
   ]
  },
  {
   "cell_type": "code",
   "execution_count": 24,
   "metadata": {
    "id": "TfI2HfMXPmb8"
   },
   "outputs": [],
   "source": [
    "from sklearn.metrics import mean_squared_error"
   ]
  },
  {
   "cell_type": "code",
   "execution_count": 25,
   "metadata": {
    "id": "SuXq8Y7AB_sZ"
   },
   "outputs": [],
   "source": [
    "X_train = train_cleaned.drop('position', axis=1)\n",
    "y_train = train_cleaned['position']\n",
    "\n",
    "X_test = test_cleaned"
   ]
  },
  {
   "cell_type": "markdown",
   "metadata": {
    "id": "6jz7cPTfFMhk"
   },
   "source": [
    "Decision Tree Classifier"
   ]
  },
  {
   "cell_type": "code",
   "execution_count": 26,
   "metadata": {
    "id": "avKmGrnpEUMm"
   },
   "outputs": [],
   "source": [
    "# Initialize the model\n",
    "dt_classifier = DecisionTreeClassifier(random_state=42)\n",
    "\n",
    "# Fit the model\n",
    "dt_classifier.fit(X_train, y_train)\n",
    "\n",
    "# Predict on the test set\n",
    "y_pred_dt = dt_classifier.predict(X_test)\n"
   ]
  },
  {
   "cell_type": "code",
   "execution_count": 27,
   "metadata": {
    "id": "eCEjpPLJFiAw"
   },
   "outputs": [],
   "source": [
    "# Predict on validation dataset\n",
    "y_val_pred_dt = dt_classifier.predict(X_val)"
   ]
  },
  {
   "cell_type": "code",
   "execution_count": 28,
   "metadata": {
    "colab": {
     "base_uri": "https://localhost:8080/"
    },
    "id": "r2Qc79uOPcjd",
    "outputId": "f6f0b82a-2d6a-427a-d965-a4e36732b285"
   },
   "outputs": [
    {
     "name": "stdout",
     "output_type": "stream",
     "text": [
      "Decision Tree RMSE: 5.7278866028465805\n"
     ]
    }
   ],
   "source": [
    "# Finding RMSE for the predicted values on validation dataset\n",
    "dt_rmse = np.sqrt(mean_squared_error(y_val, y_val_pred_dt))\n",
    "print(f\"Decision Tree RMSE: {dt_rmse}\")"
   ]
  },
  {
   "cell_type": "markdown",
   "metadata": {
    "id": "sZrJbg8nGMfu"
   },
   "source": [
    "Random Forest Classifier"
   ]
  },
  {
   "cell_type": "code",
   "execution_count": 29,
   "metadata": {},
   "outputs": [],
   "source": [
    "X_train_small = X_train.sample(frac=0.2, random_state=42)\n",
    "y_train_small = y_train.loc[X_train_small.index]\n"
   ]
  },
  {
   "cell_type": "code",
   "execution_count": 30,
   "metadata": {
    "id": "7RzzcPKgFvFe"
   },
   "outputs": [],
   "source": [
    "# Initialize the model\n",
    "rf_classifier = RandomForestClassifier(n_estimators=10,max_depth=10,random_state=42)\n",
    "\n",
    "# Fit the model\n",
    "rf_classifier.fit(X_train_small, y_train_small)\n",
    "\n",
    "# Predict on the test set\n",
    "y_pred_rf = rf_classifier.predict(X_test)\n"
   ]
  },
  {
   "cell_type": "code",
   "execution_count": 31,
   "metadata": {
    "id": "lqxlzUm3GUvH"
   },
   "outputs": [],
   "source": [
    "# Predict on validation dataset\n",
    "y_val_pred_rf = rf_classifier.predict(X_val)"
   ]
  },
  {
   "cell_type": "code",
   "execution_count": 32,
   "metadata": {
    "colab": {
     "base_uri": "https://localhost:8080/"
    },
    "id": "xAnbz17pP6r2",
    "outputId": "71f49edf-6b99-4009-c9da-a4ba6bb38f6b"
   },
   "outputs": [
    {
     "name": "stdout",
     "output_type": "stream",
     "text": [
      "Random Forest RMSE: 5.9648831092919465\n"
     ]
    }
   ],
   "source": [
    "# Finding RMSE for the predicted values on validation dataset\n",
    "rf_rmse = np.sqrt(mean_squared_error(y_val, y_val_pred_rf))\n",
    "print(f\"Random Forest RMSE: {rf_rmse}\")"
   ]
  },
  {
   "cell_type": "markdown",
   "metadata": {
    "id": "wxFspUhgI9m8"
   },
   "source": [
    "Logistic Regression"
   ]
  },
  {
   "cell_type": "code",
   "execution_count": 33,
   "metadata": {
    "id": "MKp2-wqDIXtt"
   },
   "outputs": [],
   "source": [
    "scaler = StandardScaler()\n",
    "X_train_scaled = scaler.fit_transform(X_train)\n",
    "X_test_scaled = scaler.transform(X_test)"
   ]
  },
  {
   "cell_type": "code",
   "execution_count": 34,
   "metadata": {
    "colab": {
     "base_uri": "https://localhost:8080/"
    },
    "id": "nDSuD3s4JH2n",
    "outputId": "2982f16d-9691-4be5-c97f-1ee1a9763b59"
   },
   "outputs": [],
   "source": [
    "from sklearn.linear_model import LogisticRegression\n",
    "from sklearn.utils import resample\n",
    "\n",
    "# (Optional) Downsample if training set is large\n",
    "if len(X_train_scaled) > 50000:\n",
    "    X_train_sampled, y_train_sampled = resample(\n",
    "        X_train_scaled, y_train,\n",
    "        replace=False,\n",
    "        n_samples=50000,\n",
    "        random_state=42\n",
    "    )\n",
    "else:\n",
    "    X_train_sampled = X_train_scaled\n",
    "    y_train_sampled = y_train\n",
    "\n",
    "# Use solver suitable for large datasets and scale\n",
    "logreg_classifier = LogisticRegression(\n",
    "    solver='saga',       # better for large datasets\n",
    "    max_iter=1000,\n",
    "    random_state=42,\n",
    "    n_jobs=-1             # use all CPU cores\n",
    ")\n",
    "\n",
    "# Fit and predict\n",
    "logreg_classifier.fit(X_train_sampled, y_train_sampled)\n",
    "y_pred_logreg = logreg_classifier.predict(X_test_scaled)\n"
   ]
  },
  {
   "cell_type": "code",
   "execution_count": 35,
   "metadata": {
    "id": "uvwOAZjgQOo_"
   },
   "outputs": [],
   "source": [
    "X_val_scaled = scaler.transform(X_val)"
   ]
  },
  {
   "cell_type": "code",
   "execution_count": 36,
   "metadata": {
    "id": "JNfirYWQQG9W"
   },
   "outputs": [],
   "source": [
    "# Predict on validation dataset\n",
    "y_val_pred_logreg = logreg_classifier.predict(X_val_scaled)"
   ]
  },
  {
   "cell_type": "code",
   "execution_count": 37,
   "metadata": {
    "colab": {
     "base_uri": "https://localhost:8080/"
    },
    "id": "SkmRUHCUQLxl",
    "outputId": "beb59bb2-eca1-4aa1-f303-d462f3dbe965"
   },
   "outputs": [
    {
     "name": "stdout",
     "output_type": "stream",
     "text": [
      "Logistic Regression RMSE: 3.419936415179374\n"
     ]
    }
   ],
   "source": [
    "# Finding RMSE for the predicted values on validation dataset\n",
    "lr_rmse = np.sqrt(mean_squared_error(y_val, y_val_pred_logreg))\n",
    "print(f\"Logistic Regression RMSE: {lr_rmse}\")"
   ]
  },
  {
   "cell_type": "markdown",
   "metadata": {
    "id": "kMLQLwRTRwys"
   },
   "source": [
    "Exporting Predictions like sample submmission\n"
   ]
  },
  {
   "cell_type": "code",
   "execution_count": 38,
   "metadata": {
    "id": "tI5IngQUQfAS"
   },
   "outputs": [],
   "source": [
    "result_ds = test['result_driver_standing']\n",
    "dt_pred_df = pd.DataFrame({'position': y_pred_dt})\n",
    "rf_pred_df = pd.DataFrame({'position': y_pred_rf})\n",
    "lr_pred_df = pd.DataFrame({'position': y_pred_logreg})"
   ]
  },
  {
   "cell_type": "code",
   "execution_count": 39,
   "metadata": {
    "id": "LGwysGieTmVS"
   },
   "outputs": [],
   "source": [
    "dt_final = pd.concat([dt_pred_df,result_ds], axis=1)\n",
    "rf_final = pd.concat([rf_pred_df,result_ds], axis=1)\n",
    "lr_final = pd.concat([lr_pred_df,result_ds], axis=1)"
   ]
  },
  {
   "cell_type": "code",
   "execution_count": 40,
   "metadata": {
    "id": "8WcRtOS1SMLF"
   },
   "outputs": [],
   "source": [
    "dt_final.to_csv('dt_predictions.csv', index=False)\n",
    "rf_final.to_csv('rf_predictions.csv', index=False)\n",
    "lr_final.to_csv('lr_predictions.csv', index=False)"
   ]
  }
 ],
 "metadata": {
  "accelerator": "TPU",
  "colab": {
   "gpuType": "V28",
   "provenance": []
  },
  "kernelspec": {
   "display_name": "Python 3",
   "language": "python",
   "name": "python3"
  },
  "language_info": {
   "codemirror_mode": {
    "name": "ipython",
    "version": 3
   },
   "file_extension": ".py",
   "mimetype": "text/x-python",
   "name": "python",
   "nbconvert_exporter": "python",
   "pygments_lexer": "ipython3",
   "version": "3.11.4"
  }
 },
 "nbformat": 4,
 "nbformat_minor": 4
}
